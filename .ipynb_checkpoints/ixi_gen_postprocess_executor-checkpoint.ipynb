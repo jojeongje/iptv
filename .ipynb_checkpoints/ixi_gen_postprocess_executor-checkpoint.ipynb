{
 "cells": [
  {
   "cell_type": "code",
   "execution_count": 81,
   "id": "b473dba3",
   "metadata": {},
   "outputs": [],
   "source": [
    "import json\n",
    "with open('request_body.json', 'r') as f:\n",
    "    request_body = json.load(f)"
   ]
  },
  {
   "cell_type": "code",
   "execution_count": 82,
   "id": "701147e0",
   "metadata": {},
   "outputs": [],
   "source": [
    "import json\n",
    "with open('response_body.json', 'r') as f:\n",
    "    response_body = json.load(f)"
   ]
  },
  {
   "cell_type": "code",
   "execution_count": 83,
   "id": "c7f874d2",
   "metadata": {},
   "outputs": [],
   "source": [
    "from pprint import pprint"
   ]
  },
  {
   "cell_type": "code",
   "execution_count": 84,
   "id": "991de0e7",
   "metadata": {},
   "outputs": [
    {
     "data": {
      "text/plain": [
       "{'responseCode': 20000000,\n",
       " 'responseMsg': 'Success',\n",
       " 'modelId': 'ixi-gen/8.8b-v1.0:commai-2406',\n",
       " 'jobId': '710f0a36-861b-4ccc-8741-9326b26584fc',\n",
       " 'result': {'summary': {'summary': '주말 낚시 계획과 과학 프로젝트 논의',\n",
       "   'summaryDetail': ['낚시 준비 및 필요한 재료 목록 작성 예정',\n",
       "    '저녁 식사 후 과학 프로젝트 자료 찾기로 함',\n",
       "    '과학 프로젝트로 태양계 모형 제작 예정',\n",
       "    '주말에 호수로 낚시 가기로 함']},\n",
       "  'keyword': ['#계획', '#일상', '#저녁식사', '#태양계모형', '#학교', '#낚시', '#주말', '#과학프로젝트'],\n",
       "  'taskRecommend': [{'task': 'schedule',\n",
       "    'title': '낚시 가기',\n",
       "    'date': '',\n",
       "    'time': '',\n",
       "    'email': '',\n",
       "    'location': '',\n",
       "    'phoneNumber': '',\n",
       "    'accountNumber': '',\n",
       "    'reference': '7A'},\n",
       "   {'task': 'map',\n",
       "    'title': '',\n",
       "    'date': '',\n",
       "    'time': '',\n",
       "    'email': '',\n",
       "    'location': '호수',\n",
       "    'phoneNumber': '',\n",
       "    'accountNumber': '',\n",
       "    'reference': '7A'}]}}"
      ]
     },
     "execution_count": 84,
     "metadata": {},
     "output_type": "execute_result"
    }
   ],
   "source": [
    "response_body"
   ]
  },
  {
   "cell_type": "code",
   "execution_count": 85,
   "id": "84a6c073",
   "metadata": {},
   "outputs": [
    {
     "name": "stdout",
     "output_type": "stream",
     "text": [
      "{'responseCode': 20000000,\n",
      " 'responseMsg': 'Success',\n",
      " 'modelId': 'ixi-gen/8.8b-v1.0:commai-2406',\n",
      " 'jobId': '710f0a36-861b-4ccc-8741-9326b26584fc',\n",
      " 'result': {'summary': {'summary': '주말 낚시 계획과 과학 프로젝트 논의',\n",
      "                        'summaryDetail': ['과학 프로젝트로 태양계 모형 제작 예정',\n",
      "                                          '저녁 식사 후 과학 프로젝트 자료 찾기로 함',\n",
      "                                          '낚시 준비 및 필요한 재료 목록 작성 예정']},\n",
      "            'keyword': ['#일상', '#과학프로젝트', '#저녁식사'],\n",
      "            'taskRecommend': [{'task': 'schedule',\n",
      "                               'title': '낚시 가기',\n",
      "                               'date': '',\n",
      "                               'time': '',\n",
      "                               'email': '',\n",
      "                               'location': '',\n",
      "                               'phoneNumber': '',\n",
      "                               'accountNumber': '',\n",
      "                               'reference': '7A'}]}}\n"
     ]
    }
   ],
   "source": [
    "from typing import Dict, Any\n",
    "def ixi_gen_postprocess_executor(request_body: Dict[str, Any], response_body: Dict[str, Any]) -> Dict[str, Any]:\n",
    "    \"\"\"\n",
    "    Main executor function for postprocessing ixi-gen output.\n",
    "    This function performs two main tasks\n",
    "    1. Reduces the number of summary/keywords\n",
    "    2. Performs a hallucination check\n",
    "\n",
    "    Args:\n",
    "        request_body (Dict[str, Any]): JSON object containing the request body.\n",
    "        response_body (Dict[str, Any]): JSON object containing the response body.\n",
    "\n",
    "    Returns:\n",
    "        Dict[str, Any]: Postprocessed data.\n",
    "    \"\"\"\n",
    "    stt_dialogue = request_body['modelParams']['text'][\"input\"]\n",
    "    response_body = _reduce_summary_keywords(stt_dialogue, response_body)\n",
    "    response_body = _perform_hallucination_check(stt_dialogue, response_body)\n",
    "    return response_body\n",
    "    \n",
    "def _reduce_summary_keywords(stt_dialogue: Dict[str, Any], response_body: Dict[str, Any]):\n",
    "    \"\"\"\n",
    "    Reduces the number of detail summaries/keywords\n",
    "    \n",
    "    Args:\n",
    "        request_body (Dict[str, Any]): JSON object containing the request body.\n",
    "        response_body (Dict[str, Any]): JSON object containing the response body.\n",
    "\n",
    "    Returns:\n",
    "        Dict[str, Any]: Data with reduced summary/keywords.\n",
    "    \"\"\"\n",
    "    import random\n",
    "    num_select = 3 \n",
    "    selected_summary = random.sample(response_body[\"result\"][\"summary\"][\"summaryDetail\"], num_select)\n",
    "    response_body[\"result\"][\"summary\"][\"summaryDetail\"] = selected_summary\n",
    "\n",
    "    num_select = 3 \n",
    "    selected_keyword = random.sample(response_body[\"result\"][\"keyword\"], num_select)\n",
    "    response_body[\"result\"][\"keyword\"] = selected_keyword\n",
    "    return response_body\n",
    "\n",
    "def _perform_hallucination_check(stt_dialogue: Dict[str, Any], response_body: Dict[str, Any]):\n",
    "    \"\"\"\n",
    "    Performs a hallucination check\n",
    "    \n",
    "    Args:\n",
    "        request_body (Dict[str, Any]): JSON object containing the request body.\n",
    "        response_body (Dict[str, Any]): JSON object containing the response body.\n",
    "\n",
    "    Returns:\n",
    "        Dict[str, Any]: Data with hallucinations checked\n",
    "    \"\"\"\n",
    "    checked_entities = []\n",
    "    for entities in response_body[\"result\"][\"taskRecommend\"]:\n",
    "        checked_entity = {}\n",
    "        if entities == {}:\n",
    "            checked_entities.append(checked_entity)\n",
    "            continue\n",
    "            \n",
    "        else:\n",
    "            if \"호수\" not in list(entities.values()):\n",
    "                checked_entity = entities\n",
    "                checked_entities.append(checked_entity)\n",
    "    response_body[\"result\"][\"taskRecommend\"] = checked_entities\n",
    "    return response_body\n",
    "\n",
    "\n",
    "if __name__==\"__main__\":\n",
    "    response_body = ixi_gen_postprocess_executor(request_body, response_body)\n",
    "    pprint(response_body,sort_dicts=False)"
   ]
  },
  {
   "cell_type": "code",
   "execution_count": null,
   "id": "bed9e00e",
   "metadata": {},
   "outputs": [],
   "source": []
  },
  {
   "cell_type": "code",
   "execution_count": null,
   "id": "a5697c18",
   "metadata": {},
   "outputs": [],
   "source": []
  }
 ],
 "metadata": {
  "kernelspec": {
   "display_name": "Python 3 (ipykernel)",
   "language": "python",
   "name": "python3"
  },
  "language_info": {
   "codemirror_mode": {
    "name": "ipython",
    "version": 3
   },
   "file_extension": ".py",
   "mimetype": "text/x-python",
   "name": "python",
   "nbconvert_exporter": "python",
   "pygments_lexer": "ipython3",
   "version": "3.8.13"
  }
 },
 "nbformat": 4,
 "nbformat_minor": 5
}
